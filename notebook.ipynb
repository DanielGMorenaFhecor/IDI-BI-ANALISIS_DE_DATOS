{
 "cells": [
  {
   "cell_type": "markdown",
   "metadata": {},
   "source": [
    "### Imports"
   ]
  },
  {
   "cell_type": "code",
   "execution_count": 2,
   "metadata": {},
   "outputs": [],
   "source": [
    "import pandas as pd"
   ]
  },
  {
   "cell_type": "markdown",
   "metadata": {},
   "source": [
    "## Inputs"
   ]
  },
  {
   "cell_type": "code",
   "execution_count": 1,
   "metadata": {},
   "outputs": [],
   "source": [
    "filepath = 'data/IFC-POWER_BI.csv'"
   ]
  },
  {
   "cell_type": "code",
   "execution_count": 11,
   "metadata": {},
   "outputs": [
    {
     "name": "stderr",
     "output_type": "stream",
     "text": [
      "C:\\Users\\dgm\\AppData\\Local\\Temp\\ipykernel_32732\\1714439586.py:1: DtypeWarning: Columns (2,3,4,5,6,7,17,18,19,20,32,34,35,36,37,39,41) have mixed types. Specify dtype option on import or set low_memory=False.\n",
      "  df = pd.read_csv(filepath, sep=';')\n"
     ]
    }
   ],
   "source": [
    "df = pd.read_csv(filepath, sep=';')\n",
    "df.head();"
   ]
  },
  {
   "cell_type": "code",
   "execution_count": 10,
   "metadata": {},
   "outputs": [
    {
     "data": {
      "text/plain": [
       "Model                               object\n",
       "GUID                                object\n",
       "ExtrusionX (mm)                     object\n",
       "ExtrusionY (mm)                     object\n",
       "ExtrusionZ (mm)                     object\n",
       "OriginX (mm)                        object\n",
       "OriginY (mm)                        object\n",
       "OriginZ (mm)                        object\n",
       "XDirX                              float64\n",
       "XDirY                              float64\n",
       "XDirZ                              float64\n",
       "Last Modified Date                  object\n",
       "Product Object Type                 object\n",
       "Change Action                       object\n",
       "Owning User                         object\n",
       "Product Description                 object\n",
       "Product Name                        object\n",
       "CenterOfGravityX (mm)               object\n",
       "CenterOfGravityY (mm)               object\n",
       "CenterOfGravityZ (mm)               object\n",
       "Volume (m³)                         object\n",
       "NAME                                object\n",
       "ASSEMBLY.ID                        float64\n",
       "CONTENTTYPE                         object\n",
       "MATERIAL_TYPE                       object\n",
       "MATERIAL                            object\n",
       "Class zone                          object\n",
       "Class element                       object\n",
       "Building                            object\n",
       "Building section                    object\n",
       "Class frmw                          object\n",
       "Component part                      object\n",
       "Cube number                         object\n",
       "LENGTH (mm)                          int64\n",
       "VOLUME (m³)                         object\n",
       "HEIGHT (mm)                         object\n",
       "AREA_PGZ (m²)                       object\n",
       "AREA (m²)                           object\n",
       "PROFILE                             object\n",
       "WIDTH (mm)                          object\n",
       "WEIGHT (t)                         float64\n",
       "PROFILE.CROSS_SECTION_AREA (m²)     object\n",
       "Common Type                         object\n",
       "LU Pos.Number                      float64\n",
       "DU Pos.Number                      float64\n",
       "dtype: object"
      ]
     },
     "execution_count": 10,
     "metadata": {},
     "output_type": "execute_result"
    }
   ],
   "source": [
    "df.dtypes"
   ]
  },
  {
   "cell_type": "code",
   "execution_count": null,
   "metadata": {},
   "outputs": [],
   "source": [
    "decimal_cols = ('ExtrusionX (mm)', 'ExtrusionY (mm)', 'ExtrusionZ (mm)', 'OriginX (mm)', 'OriginY (mm)', 'OriginZ (mm)',\n",
    "'XDirX', 'XDirY', 'XDirZ', 'CenterOfGravityX (mm)', 'CenterOfGravityY (mm)', 'CenterOfGravityZ (mm)',\n",
    "'Volume (m³)', 'LENGTH (mm)', 'VOLUME (m³)', 'HEIGHT (mm)', 'AREA_PGZ (m²)', 'AREA (m²)', 'WIDTH (mm)', 'WEIGHT (t)', 'PROFILE.CROSS_SECTION_AREA (m²)')\n",
    "for col in decimal_cols:\n",
    "    df[col] = pd.to_numeric(df[col], errors='coerce')"
   ]
  }
 ],
 "metadata": {
  "kernelspec": {
   "display_name": "Python 3.10.9 ('.venv': venv)",
   "language": "python",
   "name": "python3"
  },
  "language_info": {
   "codemirror_mode": {
    "name": "ipython",
    "version": 3
   },
   "file_extension": ".py",
   "mimetype": "text/x-python",
   "name": "python",
   "nbconvert_exporter": "python",
   "pygments_lexer": "ipython3",
   "version": "3.10.9"
  },
  "orig_nbformat": 4,
  "vscode": {
   "interpreter": {
    "hash": "2445d03f994853139c3d34ef325ff3f2ddb06229549ea468ac454b89e1432fc8"
   }
  }
 },
 "nbformat": 4,
 "nbformat_minor": 2
}
